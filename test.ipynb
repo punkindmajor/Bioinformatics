{
 "cells": [
  {
   "cell_type": "code",
   "execution_count": 197,
   "metadata": {},
   "outputs": [],
   "source": [
    "import sys\n",
    "import numpy as np\n",
    "import torch\n",
    "import torch.nn as nn\n",
    "import torch.optim as optim\n",
    "import torch.utils.data as data\n",
    "from torchvision import transforms,utils\n",
    "import time \n"
   ]
  },
  {
   "cell_type": "code",
   "execution_count": 198,
   "metadata": {},
   "outputs": [],
   "source": [
    "sys.path.append(\"lib/\")\n",
    "import model\n",
    "import data_handle"
   ]
  },
  {
   "cell_type": "code",
   "execution_count": 199,
   "metadata": {},
   "outputs": [],
   "source": [
    "import pickle as pk\n",
    "\n",
    "MODELNAME = 'Alpha20_4Head_128Hidden'\n",
    "EPOCH = 10\n",
    "META = f\"loss_log/{MODELNAME}\"\n",
    "with open(META,\"rb\") as f :\n",
    "    meta = pk.load(f)\n",
    "train_loss_log = meta['train_log']\n",
    "val_loss_log = meta['val_log']\n",
    "meta_data = meta['meta']"
   ]
  },
  {
   "cell_type": "code",
   "execution_count": 200,
   "metadata": {},
   "outputs": [],
   "source": [
    "input_dim = meta_data['input_dim']  # Number of amino acids (replace with your actual input dimension)\n",
    "output_dim = meta_data['output_dim']  # Binary labels\n",
    "hidden_dim = meta_data['hidden_dim']\n",
    "num_layers = meta_data['num_layers']\n",
    "num_heads = meta_data['num_heads']\n",
    "latest_model = f'Model/{MODELNAME}/{MODELNAME}_{EPOCH}.pth'\n",
    "TRAIN = \"data/ATP_train.txt\"\n",
    "TEST = \"data/ATP_test.txt\""
   ]
  },
  {
   "cell_type": "code",
   "execution_count": 201,
   "metadata": {},
   "outputs": [],
   "source": [
    "test_set = data_handle.ProteinDataset(TEST)\n",
    "test_loader = data.DataLoader(test_set, batch_size=1, shuffle=False)"
   ]
  },
  {
   "cell_type": "code",
   "execution_count": 202,
   "metadata": {},
   "outputs": [],
   "source": [
    "def save_checkpoint(checkpoint_path, model, optimizer):\n",
    "    state = {'state_dict': model.state_dict(),\n",
    "             'optimizer' : optimizer.state_dict()}\n",
    "    torch.save(state, checkpoint_path)\n",
    "    print('model saved to %s' % checkpoint_path)\n",
    "    \n",
    "def load_checkpoint(checkpoint_path, model, optimizer):\n",
    "    state = torch.load(checkpoint_path)\n",
    "    model.load_state_dict(state['state_dict'])\n",
    "    optimizer.load_state_dict(state['optimizer'])\n",
    "    print('model loaded from %s' % checkpoint_path)"
   ]
  },
  {
   "cell_type": "code",
   "execution_count": 203,
   "metadata": {},
   "outputs": [
    {
     "name": "stdout",
     "output_type": "stream",
     "text": [
      "CUDA is available. Using GPU.\n"
     ]
    }
   ],
   "source": [
    "if torch.cuda.is_available():\n",
    "    # Initialize CUDA device\n",
    "    device = torch.device(\"cuda\")\n",
    "    print(\"CUDA is available. Using GPU.\")\n",
    "else:\n",
    "    device = torch.device(\"cpu\")\n",
    "    print(\"CUDA is not available. Using CPU.\")"
   ]
  },
  {
   "cell_type": "code",
   "execution_count": 204,
   "metadata": {},
   "outputs": [],
   "source": [
    "def test(model,data_loader,criterion):\n",
    "    model.eval()\n",
    "    total_loss = 0\n",
    "    N = len(data_loader.dataset)\n",
    "    #For Recall/f1/accuaracy\n",
    "    tp = 0\n",
    "    fp = 0 \n",
    "    tn = 0\n",
    "    fn = 0 \n",
    "    #For ROC\n",
    "    pre =[]\n",
    "    gt = [] \n",
    "    m=nn.Softmax(dim=1)\n",
    "    #turn off gradient calculation, for computation speed\n",
    "    with torch.no_grad(): \n",
    "        for data,target in data_loader:\n",
    "            data,target = data.to(device),target.to(device)\n",
    "            outputs = model(data)\n",
    "            #y_tensor = torch.tensor(target, dtype=torch.long)\n",
    "            y_tensor = target.clone().detach().to(torch.long)\n",
    "            loss = criterion(outputs.view(-1, output_dim), y_tensor.view(-1))\n",
    "            total_loss += loss.item()\n",
    "            pred = outputs.argmax(dim=2)\n",
    "            c = pred/y_tensor\n",
    "            tp += torch.sum(c == 1).item()\n",
    "            fp += torch.sum(c == float('inf')).item()\n",
    "            tn += torch.sum(torch.isnan(c)).item()\n",
    "            fn += torch.sum(c == 0).item()\n",
    "            #ROC\n",
    "            gt.append(y_tensor.squeeze())\n",
    "            pro = m(outputs)\n",
    "            pre.append(pro.squeeze())\n",
    "            \n",
    "        average_loss = total_loss/len(data_loader.dataset)\n",
    "    #print(\"f1 score: \",2*tp/(2*tp+fp+fn) )\n",
    "    F_1 = 2*tp/(2*tp+fp+fn)\n",
    "    re = tp/(tp+fn)\n",
    "    acc = (tp+tn)/(tp+tn+fp+fn)\n",
    "    #print(\"Recall: \", tp/(tp+fn)*100,'%')\n",
    "    #print(\"Precision:\",tp/(tp+fn)*100,'%')\n",
    "    #print(f'Accuracy Rating: {(tp+tn)/(tp+tn+fp+fn)*100}%' )\n",
    "    #print(\"Average Loss:\", average_loss)\n",
    "    #print(f\"Average Loss Validation {N} Image: {average_loss}\")\n",
    "    #print(f\"Accuracy = {tp/N}\")\n",
    "    return [F_1,re,acc,average_loss],gt,pre\n",
    "    "
   ]
  },
  {
   "cell_type": "code",
   "execution_count": 205,
   "metadata": {},
   "outputs": [
    {
     "name": "stdout",
     "output_type": "stream",
     "text": [
      "model loaded from Model/Alpha20_4Head_128Hidden/Alpha20_4Head_128Hidden_10.pth\n"
     ]
    },
    {
     "name": "stderr",
     "output_type": "stream",
     "text": [
      "C:\\Users\\徐嘉祥\\AppData\\Local\\Packages\\PythonSoftwareFoundation.Python.3.11_qbz5n2kfra8p0\\LocalCache\\local-packages\\Python311\\site-packages\\torch\\nn\\modules\\transformer.py:286: UserWarning: enable_nested_tensor is True, but self.use_nested_tensor is False because encoder_layer.self_attn.batch_first was not True(use batch_first for better inference performance)\n",
      "  warnings.warn(f\"enable_nested_tensor is True, but self.use_nested_tensor is False because {why_not_sparsity_fast_path}\")\n"
     ]
    }
   ],
   "source": [
    "model_test = model.TransformerClassifier(input_dim, hidden_dim, output_dim, num_layers, num_heads)\n",
    "optimizer = optim.SGD(model_test.parameters(), lr=0.01)\n",
    "load_checkpoint(latest_model,model_test,optimizer)"
   ]
  },
  {
   "cell_type": "code",
   "execution_count": 206,
   "metadata": {},
   "outputs": [],
   "source": [
    "#weights = torch.tensor([0.2,0.8]).to(device)\n",
    "criterion = nn.CrossEntropyLoss()"
   ]
  },
  {
   "cell_type": "code",
   "execution_count": 207,
   "metadata": {},
   "outputs": [
    {
     "name": "stderr",
     "output_type": "stream",
     "text": [
      "c:\\Users\\徐嘉祥\\Desktop\\Course\\Bio-infor\\BIO\\Weighted_loss\\lib\\data_handle.py:44: UserWarning: To copy construct from a tensor, it is recommended to use sourceTensor.clone().detach() or sourceTensor.clone().detach().requires_grad_(True), rather than torch.tensor(sourceTensor).\n",
      "  return torch.IntTensor(sequence), torch.tensor(label)\n"
     ]
    }
   ],
   "source": [
    "model_test.to(device)\n",
    "c,a,b = test(model_test,test_loader,criterion)"
   ]
  },
  {
   "cell_type": "code",
   "execution_count": 208,
   "metadata": {},
   "outputs": [],
   "source": [
    "pro = torch.cat(b)\n",
    "gt = torch.cat(a)"
   ]
  },
  {
   "cell_type": "code",
   "execution_count": 209,
   "metadata": {},
   "outputs": [],
   "source": [
    "gt_np = gt.cpu().numpy()\n",
    "pro_np = pro[:,1].cpu().numpy()"
   ]
  },
  {
   "cell_type": "code",
   "execution_count": 210,
   "metadata": {},
   "outputs": [
    {
     "name": "stdout",
     "output_type": "stream",
     "text": [
      "(39459,)\n",
      "(39459,)\n"
     ]
    }
   ],
   "source": [
    "gt_np = gt.cpu().numpy()\n",
    "pro_np = pro[:,1].cpu().numpy()\n",
    "print(pro_np.shape)\n",
    "print(gt_np.shape)"
   ]
  },
  {
   "cell_type": "code",
   "execution_count": 211,
   "metadata": {},
   "outputs": [
    {
     "data": {
      "image/png": "[encoded data removed]",
      "text/plain": [
       "<Figure size 640x480 with 1 Axes>"
      ]
     },
     "metadata": {},
     "output_type": "display_data"
    }
   ],
   "source": [
    "from sklearn.metrics import roc_curve,auc\n",
    "import matplotlib.pyplot as plt\n",
    "fpr, tpr, thresholds = roc_curve(gt_np, pro_np)\n",
    "roc_auc = auc(fpr, tpr)\n",
    "# Plot the ROC curve\n",
    "plt.figure()\n",
    "plt.plot(fpr, tpr, color='indigo', lw=2, label='ROC curve (area = %0.2f)' % roc_auc)\n",
    "plt.plot([0, 1], [0, 1], color='teal', lw=2, linestyle='-')\n",
    "plt.xlim([0.0, 1.0])\n",
    "plt.ylim([0.0, 1.05])\n",
    "plt.xlabel('False Positive Rate')\n",
    "plt.ylabel('True Positive Rate')\n",
    "#plt.title(f'ROC Curve - ACC {acc*100}%')\n",
    "plt.legend(loc=\"lower right\")\n",
    "plt.show()"
   ]
  },
  {
   "cell_type": "code",
   "execution_count": 212,
   "metadata": {},
   "outputs": [
    {
     "name": "stdout",
     "output_type": "stream",
     "text": [
      "F1 Score: 0.05835221754613144\n",
      "Accuracy 41.02739552446843 %\n",
      "Recall: 58.570268074735985 %\n",
      "Loss 0.8189721160297152\n"
     ]
    }
   ],
   "source": [
    "print(\"F1 Score:\",c[0])\n",
    "print(\"Accuracy\",c[2]*100,'%')\n",
    "print(\"Recall:\",c[1]*100,'%')\n",
    "print(\"Loss\",c[3])"
   ]
  }
 ],
 "metadata": {
  "kernelspec": {
   "display_name": "Python 3",
   "language": "python",
   "name": "python3"
  },
  "language_info": {
   "codemirror_mode": {
    "name": "ipython",
    "version": 3
   },
   "file_extension": ".py",
   "mimetype": "text/x-python",
   "name": "python",
   "nbconvert_exporter": "python",
   "pygments_lexer": "ipython3",
   "version": "3.11.9"
  }
 },
 "nbformat": 4,
 "nbformat_minor": 2
}
